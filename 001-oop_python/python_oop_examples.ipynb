{
 "cells": [
  {
   "cell_type": "markdown",
   "id": "1bfe8681-4688-4aca-a503-7291671ea241",
   "metadata": {},
   "source": [
    "## Python Object Orieinted"
   ]
  },
  {
   "cell_type": "code",
   "execution_count": 4,
   "id": "cdb3a1ea-4043-42e7-906a-25c8d43733ff",
   "metadata": {},
   "outputs": [
    {
     "name": "stdout",
     "output_type": "stream",
     "text": [
      "9\n",
      "Hello, World!\n",
      "<__main__.MyClass object at 0x7f5963ab1850>\n",
      "9\n",
      "Hello, World!\n",
      "<__main__.MyClass object at 0x7f5963c57070>\n"
     ]
    }
   ],
   "source": [
    "# first class\n",
    "\n",
    "class MyClass(object):\n",
    "    \n",
    "    var = 9\n",
    "    \n",
    "    def firstM(self):\n",
    "        print(\"Hello, World!\")\n",
    "        print(self)\n",
    "\n",
    "# creating class instance\n",
    "this_obj = MyClass()\n",
    "print(this_obj.var)\n",
    "this_obj.firstM()\n",
    "\n",
    "that_obj = MyClass()\n",
    "print(that_obj.var)\n",
    "that_obj.firstM()"
   ]
  },
  {
   "cell_type": "code",
   "execution_count": 8,
   "id": "5b720b4f-88de-4da5-ab5a-5a3db9385e3d",
   "metadata": {},
   "outputs": [
    {
     "name": "stdout",
     "output_type": "stream",
     "text": [
      "Overall sum:  15\n",
      "Squared:  81\n",
      "String:  Hello, Sergio!\n"
     ]
    }
   ],
   "source": [
    "# Python constructor overloading\n",
    "\n",
    "\"\"\"\n",
    "1. Overloading constructors based on arguments\n",
    "\"\"\"\n",
    "class ArgumentBasedOverLoadedClass(object):\n",
    "    \n",
    "    def __init__(self, *args):\n",
    "        \n",
    "        \"\"\"\n",
    "        if args are more than one:\n",
    "          return sum of the args\n",
    "\n",
    "        if single argument and it is type int\n",
    "          return square\n",
    "        \n",
    "        if single argument and it is type str\n",
    "          return hello str\n",
    "        \"\"\"\n",
    "        if len(args) > 1:\n",
    "            self.ans = 0\n",
    "            for i in args:\n",
    "                self.ans += i \n",
    "        elif isinstance(args[0], int):\n",
    "            self.ans = args[0] * args[0]\n",
    "        elif isinstance(args[0], str):\n",
    "            self.ans = 'Hello, ' + args[0] + '!'\n",
    "\n",
    "s1 = ArgumentBasedOverLoadedClass(1, 2, 3, 4, 5)\n",
    "print('Overall sum: ', s1.ans)\n",
    "\n",
    "s2 = ArgumentBasedOverLoadedClass(9)\n",
    "print('Squared: ', s2.ans)\n",
    "\n",
    "s3 = ArgumentBasedOverLoadedClass(\"Sergio\")\n",
    "print('String: ', s3.ans)\n"
   ]
  },
  {
   "cell_type": "code",
   "execution_count": 12,
   "id": "a7a50e40-df5b-4c03-9fc0-71a5380cc00c",
   "metadata": {},
   "outputs": [
    {
     "name": "stdout",
     "output_type": "stream",
     "text": [
      "Accessed via instance:  class value\n",
      "Accessed via Class   :  class value\n",
      "Accessed via instance:  instance updated\n",
      "Accessed via Class   :  class value\n",
      "Accessed via instance:  class value\n",
      "Accessed via Class   :  class value\n"
     ]
    }
   ],
   "source": [
    "# class attributes\n",
    "\n",
    "class ClassAttributeTest(object):\n",
    "    classy = 'class value'\n",
    "    \n",
    "dd = ClassAttributeTest()\n",
    "print(\"Accessed via instance: \", dd.classy)\n",
    "print(\"Accessed via Class   : \", ClassAttributeTest.classy)\n",
    "\n",
    "dd.classy = 'instance updated'\n",
    "print(\"Accessed via instance: \", dd.classy)\n",
    "print(\"Accessed via Class   : \", ClassAttributeTest.classy)\n",
    "\n",
    "del dd.classy\n",
    "print(\"Accessed via instance: \", dd.classy)\n",
    "print(\"Accessed via Class   : \", ClassAttributeTest.classy)\n"
   ]
  },
  {
   "cell_type": "code",
   "execution_count": 17,
   "id": "fef666d1-df29-4877-a0d1-05bcb8bf33e3",
   "metadata": {},
   "outputs": [
    {
     "name": "stdout",
     "output_type": "stream",
     "text": [
      "**********\n",
      "val of obj: 9\n",
      "count of instance: 3\n",
      "\n",
      "**********\n",
      "val of obj: 18\n",
      "count of instance: 3\n",
      "\n",
      "**********\n",
      "val of obj: 27\n",
      "count of instance: 3\n",
      "\n",
      "{'__module__': '__main__', 'INST_COUNT': 3, '__init__': <function InstanceCounter.__init__ at 0x7f5963bde5e0>, 'set_value': <function InstanceCounter.set_value at 0x7f5963c2d790>, 'get_value': <function InstanceCounter.get_value at 0x7f5963c2d700>, 'get_instance_count': <function InstanceCounter.get_instance_count at 0x7f5963c2dd30>, '__dict__': <attribute '__dict__' of 'InstanceCounter' objects>, '__weakref__': <attribute '__weakref__' of 'InstanceCounter' objects>, '__doc__': None}\n",
      "**********\n",
      "{'value': 9}\n",
      "\n"
     ]
    }
   ],
   "source": [
    "## Understanding Class and Instance Data\n",
    "\n",
    "# Instance Counter\n",
    "\n",
    "class InstanceCounter(object):\n",
    "    \n",
    "    # class attribute\n",
    "    INST_COUNT = 0\n",
    "    \n",
    "    def __init__(self, value):\n",
    "        self.value = value\n",
    "        InstanceCounter.INST_COUNT += 1\n",
    "        \n",
    "    def set_value(self, newVal):\n",
    "        self.value = newVal\n",
    "    \n",
    "    def get_value(self):\n",
    "        return self.value\n",
    "    \n",
    "    def get_instance_count(self):\n",
    "        return InstanceCounter.INST_COUNT\n",
    "\n",
    "a = InstanceCounter(9)\n",
    "b = InstanceCounter(18)\n",
    "c = InstanceCounter(27)\n",
    "\n",
    "for obj in (a, b, c):\n",
    "    print(\"*\" * 10)\n",
    "    print(\"val of obj: %s\" %(obj.get_value()))\n",
    "    print(\"count of instance: %s\" %(obj.get_instance_count()))\n",
    "    print()\n",
    "\n",
    "print(InstanceCounter.__dict__)\n",
    "print(\"*\" * 10)\n",
    "print(a.__dict__)\n",
    "print()"
   ]
  },
  {
   "cell_type": "markdown",
   "id": "5cd0e8d8-1f89-4793-b267-576554b23687",
   "metadata": {},
   "source": [
    "#### Built In Python Functons"
   ]
  },
  {
   "cell_type": "code",
   "execution_count": 18,
   "id": "216891b8-6341-4fdc-88e0-15d57613b11d",
   "metadata": {},
   "outputs": [
    {
     "name": "stdout",
     "output_type": "stream",
     "text": [
      "\n",
      "list: 10, -9, 1, 5, 2, \n",
      "CustomSequence: x4, x3, x2, x1, x0, \n",
      "funkyback: b, a, c, k, w, a, r, d, s, !, "
     ]
    }
   ],
   "source": [
    "# reversed\n",
    "\"\"\"\n",
    "This returns the reverse operator\n",
    "\"\"\"\n",
    "\n",
    "normal_list = [2, 5, 1, -9, 10]\n",
    "\n",
    "class CustomSequence():\n",
    "    def __len__(self):\n",
    "        return 5\n",
    "    def __getitem__(self, index):\n",
    "        return \"x{0}\".format(index)\n",
    "\n",
    "class funkyback():\n",
    "    def __reversed__(self):\n",
    "        return 'backwards!'\n",
    "\n",
    "for seq in normal_list, CustomSequence(), funkyback():\n",
    "    print(\"\\n{}: \".format(seq.__class__.__name__), end=\"\")\n",
    "    for item in reversed(seq):\n",
    "        print(item, end=\", \")\n"
   ]
  },
  {
   "cell_type": "code",
   "execution_count": 21,
   "id": "68fe325d-d58d-430a-92df-b9b4f17bbd9c",
   "metadata": {},
   "outputs": [
    {
     "name": "stdout",
     "output_type": "stream",
     "text": [
      "Position:  0\n",
      "Value:  Rajesh\n",
      "Position:  1\n",
      "Value:  Adam\n",
      "Position:  2\n",
      "Value:  Don\n",
      "Position:  3\n",
      "Value:  Trevor\n"
     ]
    }
   ],
   "source": [
    "# enumerate\n",
    "\"\"\"\n",
    "The enumerate() method adds a counter to an iterable and returns the enumerate object.\n",
    "Syntax: enumerate(iterable, start=0)\n",
    "-- the second start is optional, and by default starts at zero(0)\n",
    "\"\"\"\n",
    "\n",
    "names = ['Rajesh', 'Adam', 'Don', 'Trevor']\n",
    "enumerate(names)\n",
    "list(enumerate(names))\n",
    "\n",
    "for i, val in enumerate(names):\n",
    "    print(\"Position: \", i)\n",
    "    print(\"Value: \", val)"
   ]
  },
  {
   "cell_type": "code",
   "execution_count": 23,
   "id": "7bc08dd5-6742-41e3-8ac6-1d03112b0515",
   "metadata": {},
   "outputs": [
    {
     "name": "stdout",
     "output_type": "stream",
     "text": [
      "the description: A silly function\n",
      "the name: my_func\n",
      "the class: <class 'function'>\n",
      "the function passed in: \n",
      "My function was called\n"
     ]
    }
   ],
   "source": [
    "## Default Arguments\n",
    "\n",
    "# Functions are objects\n",
    "\n",
    "def my_func():\n",
    "    print('My function was called')\n",
    "\n",
    "my_func.description = 'A silly function'\n",
    "\n",
    "def second_func():\n",
    "    print('second function was called')\n",
    "\n",
    "second_func.description = 'Another silly function'\n",
    "\n",
    "def another_func(func):\n",
    "    print('the description:', end=' ')\n",
    "    print(func.description)\n",
    "    print('the name:', end=' ')\n",
    "    print(func.__name__)\n",
    "    print('the class:', end=' ')\n",
    "    print(func.__class__)\n",
    "    print('the function passed in: ')\n",
    "    func()\n",
    "\n",
    "another_func(my_func)\n"
   ]
  },
  {
   "cell_type": "code",
   "execution_count": 25,
   "id": "b8017d38-d3b5-4d5b-9ba9-f9fa7e095f48",
   "metadata": {},
   "outputs": [
    {
     "name": "stdout",
     "output_type": "stream",
     "text": [
      "The callable instance\n"
     ]
    }
   ],
   "source": [
    "# callable objects\n",
    "\n",
    "class CallableClass(object):\n",
    "    def __init__(self):\n",
    "        self.state = 'initialised'\n",
    "    \n",
    "    def __call__(self):\n",
    "        print(\"The callable instance\")\n",
    "\n",
    "c = CallableClass()\n",
    "c()\n"
   ]
  },
  {
   "cell_type": "markdown",
   "id": "b578c5da-8da0-4843-b726-2476bae69f0a",
   "metadata": {},
   "source": [
    "#### Inheritance And Polymorphism"
   ]
  },
  {
   "cell_type": "code",
   "execution_count": 28,
   "id": "fafaa2c6-1def-4302-9d7c-63007c13fcd4",
   "metadata": {},
   "outputs": [
    {
     "name": "stdout",
     "output_type": "stream",
     "text": [
      "Roger goes after the ball!\n",
      "Tom shreds the string.\n",
      "Roger is eating Dog Food.\n",
      "Tom is eating Cat Food.\n",
      "Roger wags tail.\n",
      "Tom purrs.\n"
     ]
    }
   ],
   "source": [
    "# The Animal Class\n",
    "\n",
    "class Animal(object):\n",
    "    \n",
    "    def __init__(self, name):\n",
    "        self.name = name\n",
    "        \n",
    "    def eat(self, food):\n",
    "        print('%s is eating %s.' %(self.name, food))\n",
    "\n",
    "\n",
    "class Dog(Animal):\n",
    "    \n",
    "    def fetch(self, thing):\n",
    "        print('%s goes after the %s!' %(self.name, thing))\n",
    "    \n",
    "    def show_affection(self): # same method in both Dog and Cat class\n",
    "        print('{0} wags tail.'.format(self.name))\n",
    "\n",
    "\n",
    "class Cat(Animal):\n",
    "    \n",
    "    def swatstring(self):\n",
    "        print('%s shreds the string.' %(self.name))\n",
    "        \n",
    "    def show_affection(self): # same method in both Dog and Cat class\n",
    "        print('{0} purrs.'.format(self.name))\n",
    "\n",
    "\n",
    "d = Dog('Roger')\n",
    "c = Cat('Tom')\n",
    "\n",
    "d.fetch('ball')\n",
    "c.swatstring()\n",
    "\n",
    "d.eat('Dog Food')\n",
    "c.eat('Cat Food')\n",
    "\n",
    "d.show_affection()\n",
    "c.show_affection()"
   ]
  },
  {
   "cell_type": "code",
   "execution_count": 29,
   "id": "01892b90-d008-4200-b711-462a73923ead",
   "metadata": {},
   "outputs": [
    {
     "name": "stdout",
     "output_type": "stream",
     "text": [
      "5\n",
      "5\n",
      "2\n"
     ]
    }
   ],
   "source": [
    "\"\"\"\n",
    "The python built in method length is a polymorphism example, \n",
    "where it can be used with multiple objects and return the\n",
    "correct output based on the input parameters\n",
    "\"\"\"\n",
    "\n",
    "print(len(\"hello\")) # a string\n",
    "print(len([1, 2, 3, 4, 5])) # a list\n",
    "print(len({\"a\": 1, \"b\": 2})) # a dict"
   ]
  },
  {
   "cell_type": "markdown",
   "id": "f2aa0ac8-147d-4356-beb4-566d772e8bb2",
   "metadata": {},
   "source": [
    "#### Method Overriding"
   ]
  },
  {
   "cell_type": "code",
   "execution_count": 36,
   "id": "838efb9f-853c-475e-b9da-d92690b63000",
   "metadata": {},
   "outputs": [
    {
     "name": "stdout",
     "output_type": "stream",
     "text": [
      "Thought: Go to the beach\n",
      "Advice: Reap as you sow\n"
     ]
    }
   ],
   "source": [
    "## example of method overriding\n",
    "\n",
    "class Thought(object):\n",
    "    \n",
    "    def __init__(self, msg):\n",
    "        self.msg = msg\n",
    "    \n",
    "    def message(self):\n",
    "        print(\"Thought: %s\" % self.msg)\n",
    "\n",
    "\n",
    "class Advice(Thought):\n",
    "    \n",
    "    def __init__(self, msg):\n",
    "        super(Advice, self).__init__(msg)\n",
    "    \n",
    "    def message(self):\n",
    "        print(\"Advice: %s\" % self.msg)\n",
    "\n",
    "\n",
    "th = Thought(\"Go to the beach\")\n",
    "th.message()\n",
    "ad = Advice(\"Reap as you sow\")\n",
    "ad.message()"
   ]
  },
  {
   "cell_type": "code",
   "execution_count": 38,
   "id": "51a5c491-5295-43a9-80e3-6ce2339108d3",
   "metadata": {},
   "outputs": [
    {
     "name": "stdout",
     "output_type": "stream",
     "text": [
      "Dog Name\n",
      "German Shephard\n"
     ]
    }
   ],
   "source": [
    "# Inheriting the constructor\n",
    "\n",
    "import random\n",
    "\n",
    "class Animal(object):\n",
    "    \n",
    "    def __init__(self, name):\n",
    "        self.name = name\n",
    "        \n",
    "\n",
    "class Dog(Animal):\n",
    "    \n",
    "    def __init__(self, name):\n",
    "        super(Dog, self).__init__(name)\n",
    "        self.breed = random.choice(['Doberman', 'German Shephard', 'Beagle'])\n",
    "\n",
    "\n",
    "d = Dog('Dog Name')\n",
    "print(d.name)\n",
    "print(d.breed)"
   ]
  },
  {
   "cell_type": "markdown",
   "id": "0dfd903c-771d-48e3-ac46-99ac09428dcb",
   "metadata": {},
   "source": [
    "#### Abstract Base Class"
   ]
  },
  {
   "cell_type": "code",
   "execution_count": 1,
   "id": "31b82f80-6bce-4a59-887d-1c89bd3c42c4",
   "metadata": {},
   "outputs": [
    {
     "name": "stdout",
     "output_type": "stream",
     "text": [
      "I have 3 sides\n"
     ]
    }
   ],
   "source": [
    "\"\"\"\n",
    "Ref: https://www.geeksforgeeks.org/abstract-classes-in-python/\n",
    "\n",
    "By default, Python does not provide abstract classes.\n",
    "Python comes with a module that provides the base for \n",
    "defining Abstract Base classes(ABC) and that module name is ABC. \n",
    "ABC works by decorating methods of the base class as abstract and then \n",
    "registering concrete classes as implementations of the abstract base. \n",
    "A method becomes abstract when decorated with the keyword @abstractmethod. \n",
    "\"\"\"\n",
    "\n",
    "from abc import ABC, abstractmethod\n",
    "\n",
    "class Polygon(ABC):\n",
    "    \n",
    "    @abstractmethod\n",
    "    def num_of_sides(self):\n",
    "        pass\n",
    "\n",
    "\n",
    "class Triangle(Polygon):\n",
    "    \n",
    "    #TypeError: Can't instantiate abstract class Triangle with abstract method num_of_sides\n",
    "    # if below is not defined\n",
    "    def num_of_sides(self):\n",
    "        print(\"I have 3 sides\")\n",
    "    \n",
    "    def is_right_angled(self):\n",
    "        return False\n",
    "    \n",
    "T = Triangle()\n",
    "T.is_right_angled()\n",
    "T.num_of_sides()"
   ]
  },
  {
   "cell_type": "code",
   "execution_count": 42,
   "id": "35dc8478-491c-40f9-bdd9-68c6c7182b0b",
   "metadata": {},
   "outputs": [
    {
     "name": "stdout",
     "output_type": "stream",
     "text": [
      "True\n",
      "True\n"
     ]
    }
   ],
   "source": [
    "# Implementation through subclassing\n",
    "\n",
    "class parent:\n",
    "    def geeks(self):\n",
    "        pass\n",
    "    \n",
    "class child(parent):\n",
    "    def geeks(self):\n",
    "        print(\"child class\")\n",
    "\n",
    "\n",
    "print(issubclass(child, parent))\n",
    "print(isinstance(child(), parent))\n"
   ]
  },
  {
   "cell_type": "code",
   "execution_count": 43,
   "id": "70cecf13-4904-41a4-acbe-ce396589b95e",
   "metadata": {},
   "outputs": [
    {
     "name": "stdout",
     "output_type": "stream",
     "text": [
      "Abstract Base Class\n",
      "subclass\n"
     ]
    }
   ],
   "source": [
    "# Concrete method in Abstract Base Class\n",
    "\n",
    "from abc import ABC, abstractmethod\n",
    "\n",
    "class R(ABC):\n",
    "    def rk(self):\n",
    "        print(\"Abstract Base Class\")\n",
    "\n",
    "\n",
    "class K(R):\n",
    "    def rk(self):\n",
    "        super(K, self).rk()\n",
    "        print(\"subclass\")\n",
    "\n",
    "r = K()\n",
    "r.rk()"
   ]
  },
  {
   "cell_type": "code",
   "execution_count": 45,
   "id": "250bc487-ae65-4874-896c-c2396b8d581f",
   "metadata": {},
   "outputs": [
    {
     "name": "stdout",
     "output_type": "stream",
     "text": [
      "Can't instantiate abstract class parent with abstract method geeks\n",
      "child class\n"
     ]
    }
   ],
   "source": [
    "# Abstract properties\n",
    "\n",
    "import abc\n",
    "from abc import ABC\n",
    "\n",
    "class parent(ABC):\n",
    "    \n",
    "    @abc.abstractproperty\n",
    "    def geeks(self):\n",
    "        return \"parent class\"\n",
    "    \n",
    "class child(parent):\n",
    "    \n",
    "    @property\n",
    "    def geeks(self):\n",
    "        return \"child class\"\n",
    "\n",
    "try:\n",
    "    p = parent()\n",
    "    print(p.geeks)\n",
    "except Exception as exp:\n",
    "    print(exp)\n",
    "\n",
    "c = child()\n",
    "print(c.geeks)"
   ]
  },
  {
   "cell_type": "markdown",
   "id": "66d538e8-b10e-4247-a89c-7b62b4eb37a2",
   "metadata": {},
   "source": [
    "#### Multiple Inheritance and Method Resolution Order (MRO)"
   ]
  },
  {
   "cell_type": "code",
   "execution_count": 47,
   "id": "233628a0-6f0f-4251-b6b4-b7119dcd5197",
   "metadata": {},
   "outputs": [
    {
     "name": "stdout",
     "output_type": "stream",
     "text": [
      "Class B\n"
     ]
    }
   ],
   "source": [
    "class A:\n",
    "    def rk(self):\n",
    "        print(\"Class A\")\n",
    "\n",
    "class B(A):\n",
    "    def rk(self):\n",
    "        print(\"Class B\")\n",
    " \n",
    "r = B()\n",
    "r.rk()\n",
    "#Order followed class B -> class A"
   ]
  },
  {
   "cell_type": "code",
   "execution_count": 50,
   "id": "ec610489-3da1-491e-814d-f21606d7b216",
   "metadata": {},
   "outputs": [
    {
     "name": "stdout",
     "output_type": "stream",
     "text": [
      "Class C\n"
     ]
    }
   ],
   "source": [
    "class A:\n",
    "    def rk(self):\n",
    "        print(\"Class A\")\n",
    "\n",
    "\n",
    "class B(A):\n",
    "    def rk(self):\n",
    "        print(\"Class B\")\n",
    "\n",
    "\n",
    "class C:\n",
    "    def rk(self):\n",
    "        print(\"Class C\")\n",
    "\n",
    "        \n",
    "class D(C, B):\n",
    "    pass\n",
    "\n",
    "d = D()\n",
    "d.rk()"
   ]
  },
  {
   "cell_type": "code",
   "execution_count": 57,
   "id": "5cfe39fb-bd80-45ca-bfa7-a105d7c8cb4e",
   "metadata": {},
   "outputs": [
    {
     "name": "stdout",
     "output_type": "stream",
     "text": [
      "Class A\n",
      "[<class '__main__.D'>, <class '__main__.B'>, <class '__main__.A'>, <class '__main__.C'>, <class 'object'>]\n"
     ]
    }
   ],
   "source": [
    "# Depth First in Python\n",
    "\n",
    "class A(object):\n",
    "    def do(self):\n",
    "        print(\"Class A\")\n",
    "\n",
    "class B(A):\n",
    "    pass\n",
    "\n",
    "class C(object):\n",
    "    def do(self):\n",
    "        print(\"Class C\")\n",
    "\n",
    "class D(B, C):\n",
    "    pass\n",
    "\n",
    "d = D()\n",
    "d.do()\n",
    "print(D.mro())\n"
   ]
  },
  {
   "cell_type": "code",
   "execution_count": 3,
   "id": "c0207368-9129-45bb-9ad0-7bf6fbe4141a",
   "metadata": {},
   "outputs": [
    {
     "name": "stdout",
     "output_type": "stream",
     "text": [
      "B\n",
      "[<class '__main__.C'>, <class '__main__.A'>, <class '__main__.B'>, <class '__main__.GP'>, <class 'object'>]\n"
     ]
    }
   ],
   "source": [
    "class GP(object):\n",
    "    def do_this(self):\n",
    "        print('Grand Parent')\n",
    "\n",
    "class A(GP):\n",
    "    pass\n",
    "\n",
    "\n",
    "class B(GP):\n",
    "    def do_this(self):\n",
    "        print('B')\n",
    "\n",
    "class C(A, B):\n",
    "    pass\n",
    "\n",
    "c = C()\n",
    "c.do_this()\n",
    "print(C.mro())"
   ]
  },
  {
   "cell_type": "markdown",
   "id": "1a01e4f7-6020-425b-9f9f-a89550be00a2",
   "metadata": {},
   "source": [
    "#### Decorators Static and Class Methods"
   ]
  },
  {
   "cell_type": "code",
   "execution_count": 4,
   "id": "50638b41-81fe-407f-b669-b2bd31325ad4",
   "metadata": {},
   "outputs": [
    {
     "name": "stdout",
     "output_type": "stream",
     "text": [
      "Creating instance.\n",
      "Init is called\n"
     ]
    },
    {
     "data": {
      "text/plain": [
       "<__main__.A at 0x7f32ec47cc70>"
      ]
     },
     "execution_count": 4,
     "metadata": {},
     "output_type": "execute_result"
    }
   ],
   "source": [
    "## __new__ in python\n",
    "\n",
    "class A(object):\n",
    "    def __new__(cls):\n",
    "        print('Creating instance.')\n",
    "        return super(A, cls).__new__(cls)\n",
    "    \n",
    "    def __init__(self):\n",
    "        print('Init is called')\n",
    "\n",
    "\n",
    "A()"
   ]
  },
  {
   "cell_type": "code",
   "execution_count": 6,
   "id": "6185ab2a-8acb-4f95-9be4-966e2478edfb",
   "metadata": {},
   "outputs": [
    {
     "name": "stdout",
     "output_type": "stream",
     "text": [
      "Creating instance\n",
      "None\n"
     ]
    }
   ],
   "source": [
    "## here __init__ is not called as in __new__ we do not return the super method\n",
    "\n",
    "class A(object):\n",
    "    def __new__(cls):\n",
    "        print('Creating instance')\n",
    "        \n",
    "    def __init__(self):\n",
    "        print('Init is called')\n",
    "\n",
    "print(A())"
   ]
  },
  {
   "cell_type": "code",
   "execution_count": 7,
   "id": "fd719b75-9d0e-4ae8-aca8-92d084cebe77",
   "metadata": {},
   "outputs": [
    {
     "name": "stdout",
     "output_type": "stream",
     "text": [
      "Creating instance.\n",
      "Geeks For Geeks\n",
      "Init an instance.\n"
     ]
    },
    {
     "ename": "TypeError",
     "evalue": "__init__() should return None, not 'str'",
     "output_type": "error",
     "traceback": [
      "\u001b[0;31m---------------------------------------------------------------------------\u001b[0m",
      "\u001b[0;31mTypeError\u001b[0m                                 Traceback (most recent call last)",
      "\u001b[0;32m<ipython-input-7-eae723517dac>\u001b[0m in \u001b[0;36m<module>\u001b[0;34m\u001b[0m\n\u001b[1;32m     14\u001b[0m \u001b[0;34m\u001b[0m\u001b[0m\n\u001b[1;32m     15\u001b[0m \u001b[0mprint\u001b[0m\u001b[0;34m(\u001b[0m\u001b[0mA\u001b[0m\u001b[0;34m(\u001b[0m\u001b[0;34m)\u001b[0m\u001b[0;34m)\u001b[0m\u001b[0;34m\u001b[0m\u001b[0;34m\u001b[0m\u001b[0m\n\u001b[0;32m---> 16\u001b[0;31m \u001b[0mprint\u001b[0m\u001b[0;34m(\u001b[0m\u001b[0mB\u001b[0m\u001b[0;34m(\u001b[0m\u001b[0;34m)\u001b[0m\u001b[0;34m)\u001b[0m\u001b[0;34m\u001b[0m\u001b[0;34m\u001b[0m\u001b[0m\n\u001b[0m",
      "\u001b[0;31mTypeError\u001b[0m: __init__() should return None, not 'str'"
     ]
    }
   ],
   "source": [
    "## __init__ purpose is to alter fresh state of newly created instance\n",
    "\n",
    "class A(object):\n",
    "    def __new__(cls):\n",
    "        print('Creating instance.')\n",
    "        return 'Geeks For Geeks'\n",
    "\n",
    "\n",
    "class B(object):\n",
    "    def __init__(self):\n",
    "        print('Init an instance.')\n",
    "        return 'Geeks For Geeks'\n",
    "\n",
    "\n",
    "print(A())\n",
    "print(B())"
   ]
  },
  {
   "cell_type": "code",
   "execution_count": 8,
   "id": "8a98f380-e34c-4246-b4d1-5211f00bf9db",
   "metadata": {},
   "outputs": [
    {
     "name": "stdout",
     "output_type": "stream",
     "text": [
      "Init of GeeksForGeeks\n",
      "Geeks for geeks\n"
     ]
    }
   ],
   "source": [
    "class GeeksForGeeks(object):\n",
    "    def __init__(self):\n",
    "        print(\"Init of GeeksForGeeks\")\n",
    "\n",
    "    def __str__(self):\n",
    "        return 'Geeks for geeks'\n",
    "\n",
    "\n",
    "class Geek(object):\n",
    "    def __new__(cls):\n",
    "        return GeeksForGeeks()\n",
    "\n",
    "    def __init__(self):\n",
    "        print(\"Init of Geek\")\n",
    "\n",
    "print(Geek())"
   ]
  },
  {
   "cell_type": "markdown",
   "id": "453bc95d-965a-4fa3-89ea-ae0823074896",
   "metadata": {},
   "source": [
    "#### Singleton Design Pattern"
   ]
  },
  {
   "cell_type": "code",
   "execution_count": 10,
   "id": "cb1271aa-0ca4-483b-9a87-867370ff983a",
   "metadata": {},
   "outputs": [
    {
     "name": "stdout",
     "output_type": "stream",
     "text": [
      "True\n",
      "<__main__.Logger object at 0x7f32dd758c70>\n",
      "<__main__.Logger object at 0x7f32dd758c70>\n"
     ]
    }
   ],
   "source": [
    "## A logger class singleton design pattern\n",
    "\n",
    "class Logger(object):\n",
    "    \n",
    "    def __new__(cls, *args, **kwargs):\n",
    "        if not hasattr(cls, '_logger'):\n",
    "            cls._logger = super(Logger, cls).__new__(cls, *args, **kwargs)\n",
    "        return cls._logger\n",
    "\n",
    "\n",
    "L1 = Logger()\n",
    "L2 = Logger()\n",
    "\n",
    "print(L1 == L2)\n",
    "print(L1)\n",
    "print(L2)"
   ]
  },
  {
   "cell_type": "markdown",
   "id": "7397ee8a-4e35-4b10-89b5-771c3cad55e8",
   "metadata": {},
   "source": [
    "#### OOP in Python -> Advanced Features"
   ]
  },
  {
   "cell_type": "markdown",
   "id": "3b02fd5e-0641-4205-ba7b-5fbf43f7cfa6",
   "metadata": {},
   "source": [
    "##### Inheriting from Built-In types"
   ]
  },
  {
   "cell_type": "code",
   "execution_count": 11,
   "id": "40001abf-e0f0-422e-9eba-bb8f1d2fe750",
   "metadata": {},
   "outputs": [
    {
     "name": "stdout",
     "output_type": "stream",
     "text": [
      "setting a key value\n",
      "setting a key value\n",
      "a: 20\n",
      "b: 30\n"
     ]
    }
   ],
   "source": [
    "class MyDict(dict):\n",
    "    \n",
    "    def __setitem__(self, key, val):\n",
    "        print('setting a key value')\n",
    "        dict.__setitem__(self, key, val)\n",
    "    \n",
    "\n",
    "dd = MyDict()\n",
    "dd['a'] = 20\n",
    "dd['b'] = 30\n",
    "\n",
    "for key in dd.keys():\n",
    "    print('{0}: {1}'.format(key, dd[key]))"
   ]
  },
  {
   "cell_type": "code",
   "execution_count": 18,
   "id": "e33e34bd-a317-4731-82da-9a42fc2e3a6e",
   "metadata": {},
   "outputs": [
    {
     "name": "stdout",
     "output_type": "stream",
     "text": [
      "[1, 2, 4, 6]\n",
      "[1, 2, 4, 6, 'Hello']\n",
      "1\n",
      "Hello\n"
     ]
    }
   ],
   "source": [
    "class MyList(list):\n",
    "    def __getitem__(self, index):\n",
    "        if index == 0:\n",
    "            raise IndexError\n",
    "        if index > 0:\n",
    "            index = index - 1\n",
    "            return list.__getitem__(self, index)\n",
    "    \n",
    "    def __setitem__(self, index, value):\n",
    "        if index == 0:\n",
    "            raise IndexError\n",
    "        if index > 0:\n",
    "            index = index - 1\n",
    "            list.__setitem__(self, index, value)\n",
    "\n",
    "x = MyList([1, 2, 4, 6])\n",
    "print(x)\n",
    "x.append('Hello')\n",
    "print(x)\n",
    "print(x[1])\n",
    "print(x[5])\n"
   ]
  },
  {
   "cell_type": "code",
   "execution_count": null,
   "id": "e5cb32ff-9e38-4eb8-859e-512e36923c92",
   "metadata": {},
   "outputs": [],
   "source": []
  }
 ],
 "metadata": {
  "kernelspec": {
   "display_name": "Python 3",
   "language": "python",
   "name": "python3"
  },
  "language_info": {
   "codemirror_mode": {
    "name": "ipython",
    "version": 3
   },
   "file_extension": ".py",
   "mimetype": "text/x-python",
   "name": "python",
   "nbconvert_exporter": "python",
   "pygments_lexer": "ipython3",
   "version": "3.9.5"
  }
 },
 "nbformat": 4,
 "nbformat_minor": 5
}
