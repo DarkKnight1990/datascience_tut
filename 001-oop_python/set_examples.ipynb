{
 "cells": [
  {
   "cell_type": "markdown",
   "id": "3d4c18e2-12f4-4689-bfda-43e2369bd550",
   "metadata": {},
   "source": [
    "### Sets in python"
   ]
  },
  {
   "cell_type": "code",
   "execution_count": 2,
   "id": "590902f4-f925-4d50-b36f-e92451621e35",
   "metadata": {},
   "outputs": [
    {
     "name": "stdout",
     "output_type": "stream",
     "text": [
      "{8, 1, 2, 4}\n"
     ]
    }
   ],
   "source": [
    "# set of integers\n",
    "my_set = {1, 2, 4, 8}\n",
    "print(my_set)"
   ]
  },
  {
   "cell_type": "code",
   "execution_count": 4,
   "id": "eacf6f4e-9e31-4c88-bda5-933d795e9f2a",
   "metadata": {},
   "outputs": [
    {
     "name": "stdout",
     "output_type": "stream",
     "text": [
      "{1.0, 'Hello World', (1, 1.0, 2)}\n"
     ]
    }
   ],
   "source": [
    "# set of mixed data types\n",
    "mixed_set = {1.0, \"Hello World\", (1, 1.0, 2)}\n",
    "print(mixed_set)"
   ]
  },
  {
   "cell_type": "markdown",
   "id": "d0038ad2-a5fc-4198-9730-a291fc62efc7",
   "metadata": {},
   "source": [
    "#### Methods for Sets"
   ]
  },
  {
   "cell_type": "code",
   "execution_count": 5,
   "id": "625231ef-5fbc-4c5c-8135-58f5371ddf16",
   "metadata": {
    "tags": []
   },
   "outputs": [
    {
     "name": "stdout",
     "output_type": "stream",
     "text": [
      "{'Python', 'Java', 'C#'}\n",
      "{'Python', 'Java', 'C#', 'C++'}\n"
     ]
    }
   ],
   "source": [
    "#add(x) method\n",
    "\n",
    "topics = {'Python', 'Java', 'C#'}\n",
    "print(topics)\n",
    "topics.add('C++')\n",
    "print(topics)"
   ]
  },
  {
   "cell_type": "code",
   "execution_count": 6,
   "id": "cdf8b262-d4f2-45ae-b2e3-4e0ec4a58285",
   "metadata": {},
   "outputs": [
    {
     "name": "stdout",
     "output_type": "stream",
     "text": [
      "{'Python', 'Developer', 'Java', 'Tester', 'C#', 'C++', 'Editor', 'Content Writer'}\n"
     ]
    }
   ],
   "source": [
    "# union()\n",
    "\n",
    "team = {'Developer', 'Content Writer', 'Tester', 'Editor'}\n",
    "group = topics.union(team)\n",
    "print(group)"
   ]
  },
  {
   "cell_type": "code",
   "execution_count": 7,
   "id": "d72d070f-a55d-48c9-ba2e-429d8da52732",
   "metadata": {},
   "outputs": [
    {
     "name": "stdout",
     "output_type": "stream",
     "text": [
      "set()\n"
     ]
    }
   ],
   "source": [
    "# intersection, returns an intersection of two sets\n",
    "\n",
    "inters = topics.intersection(team)\n",
    "print(inters)"
   ]
  },
  {
   "cell_type": "code",
   "execution_count": 8,
   "id": "24ab1f7d-de97-4ad7-8ab2-9eba8d7817e7",
   "metadata": {},
   "outputs": [
    {
     "name": "stdout",
     "output_type": "stream",
     "text": [
      "{'Sourav'}\n"
     ]
    }
   ],
   "source": [
    "# intersection continued\n",
    "teamA = {'Rahul', 'Sachin', 'Sourav'}\n",
    "teamB = {'Sourav', 'Robin', 'Kapil'}\n",
    "all_rounder = teamA.intersection(teamB)\n",
    "print(all_rounder)"
   ]
  },
  {
   "cell_type": "code",
   "execution_count": 11,
   "id": "2d7bc5fb-5063-4de1-8136-5ce169129a79",
   "metadata": {},
   "outputs": [
    {
     "name": "stdout",
     "output_type": "stream",
     "text": [
      "num1.difference(num2):  {1, 2, 5}\n",
      "num1 - num2:  {1, 2, 5}\n",
      "Num1:  {1, 2, 3, 4, 5}\n",
      "Num2:  {3, 4, 6, 7, 8}\n"
     ]
    }
   ],
   "source": [
    "# difference\n",
    "num1 = {1, 2, 3, 4, 5}\n",
    "num2 = {3, 4, 6, 7, 8}\n",
    "diff1 = num1.difference(num2)\n",
    "print(\"num1.difference(num2): \", diff1)\n",
    "diff2 = num1-num2\n",
    "print(\"num1 - num2: \", diff2)\n",
    "print(\"Num1: \", num1)\n",
    "print(\"Num2: \", num2)"
   ]
  },
  {
   "cell_type": "code",
   "execution_count": 13,
   "id": "7836d800-fc28-4f20-bc39-13919343a314",
   "metadata": {},
   "outputs": [
    {
     "name": "stdout",
     "output_type": "stream",
     "text": [
      "group:  {'Python', 'Developer', 'Java', 'Tester', 'C#', 'C++', 'Editor', 'Content Writer'}\n",
      "group (after clear):  set()\n"
     ]
    }
   ],
   "source": [
    "# clear\n",
    "print(\"group: \", group)\n",
    "group.clear()\n",
    "print(\"group (after clear): \", group)"
   ]
  },
  {
   "cell_type": "markdown",
   "id": "f6dbc95f-c600-4c84-92e2-125604992d76",
   "metadata": {},
   "source": [
    "#### Operators for Sets"
   ]
  },
  {
   "cell_type": "code",
   "execution_count": 14,
   "id": "ccb4f1ba-4bf3-4fc2-adee-71bd81b35f6f",
   "metadata": {},
   "outputs": [
    {
     "name": "stdout",
     "output_type": "stream",
     "text": [
      "set1:  {1, 2, 3, 4}\n",
      "set2:  {4, 5, 6, 7, 8}\n"
     ]
    }
   ],
   "source": [
    "# creating two sets\n",
    "set1 = set()\n",
    "set2 = set()\n",
    "\n",
    "# adding elements to the set\n",
    "for i in range(1, 5):\n",
    "    set1.add(i)\n",
    "\n",
    "for i in range(4, 9):\n",
    "    set2.add(i)\n",
    "\n",
    "print(\"set1: \", set1)\n",
    "print(\"set2: \", set2)"
   ]
  },
  {
   "cell_type": "code",
   "execution_count": 15,
   "id": "c889cd9a-59b0-4e1e-af99-ab64cdaa54eb",
   "metadata": {},
   "outputs": [
    {
     "name": "stdout",
     "output_type": "stream",
     "text": [
      "Union of set1 and set2:  {1, 2, 3, 4, 5, 6, 7, 8}\n"
     ]
    }
   ],
   "source": [
    "# Union of set1 and set2\n",
    "set3 = set1 | set2\n",
    "print(\"Union of set1 and set2: \", set3)"
   ]
  },
  {
   "cell_type": "code",
   "execution_count": 16,
   "id": "95dafb77-6c52-4996-9566-817b6143088a",
   "metadata": {},
   "outputs": [
    {
     "name": "stdout",
     "output_type": "stream",
     "text": [
      "Intersection of set1 and set2:  {4}\n"
     ]
    }
   ],
   "source": [
    "# Intersection of set1 and set2\n",
    "set4 = set1 & set2\n",
    "print(\"Intersection of set1 and set2: \", set4)"
   ]
  },
  {
   "cell_type": "code",
   "execution_count": 17,
   "id": "f2843206-d093-4614-8e81-ba9028f4435a",
   "metadata": {},
   "outputs": [
    {
     "name": "stdout",
     "output_type": "stream",
     "text": [
      "set3 is superset of set4\n"
     ]
    }
   ],
   "source": [
    "# relation between set3 and set4\n",
    "\n",
    "if set3 > set4:\n",
    "    print(\"set3 is superset of set4\")\n",
    "elif set3 < set4:\n",
    "    print(\"set3 is subset of set4\")\n",
    "else:\n",
    "    print(\"set3 is same as set4\")"
   ]
  },
  {
   "cell_type": "code",
   "execution_count": 20,
   "id": "3dd33da0-eea1-4047-9436-de8c008adbe1",
   "metadata": {},
   "outputs": [
    {
     "data": {
      "text/plain": [
       "False"
      ]
     },
     "execution_count": 20,
     "metadata": {},
     "output_type": "execute_result"
    }
   ],
   "source": [
    "set1 > set2"
   ]
  },
  {
   "cell_type": "code",
   "execution_count": 21,
   "id": "da198bb3-941c-460c-86b0-d75f0327820c",
   "metadata": {},
   "outputs": [
    {
     "data": {
      "text/plain": [
       "False"
      ]
     },
     "execution_count": 21,
     "metadata": {},
     "output_type": "execute_result"
    }
   ],
   "source": [
    "set2 > set1"
   ]
  },
  {
   "cell_type": "code",
   "execution_count": 22,
   "id": "706b8dfc-a3ad-43b0-b318-d52d9f5f6317",
   "metadata": {},
   "outputs": [
    {
     "data": {
      "text/plain": [
       "False"
      ]
     },
     "execution_count": 22,
     "metadata": {},
     "output_type": "execute_result"
    }
   ],
   "source": [
    "set1.isdisjoint(set2)"
   ]
  },
  {
   "cell_type": "code",
   "execution_count": 23,
   "id": "0b9df47c-3c9c-46e9-9ae8-df1fcb10bcda",
   "metadata": {},
   "outputs": [
    {
     "name": "stdout",
     "output_type": "stream",
     "text": [
      "set3:  {1, 2, 3, 4, 5, 6, 7, 8}\n",
      "set4:  {4}\n",
      "difference:  {1, 2, 3, 5, 6, 7, 8}\n"
     ]
    }
   ],
   "source": [
    "# difference between two sets\n",
    "print(\"set3: \", set3)\n",
    "print(\"set4: \", set4)\n",
    "set5 = set3 - set4\n",
    "print(\"difference: \", set5)"
   ]
  },
  {
   "cell_type": "code",
   "execution_count": 24,
   "id": "c99ef2ec-3f9d-4df4-8928-6ed5b8282296",
   "metadata": {},
   "outputs": [
    {
     "data": {
      "text/plain": [
       "True"
      ]
     },
     "execution_count": 24,
     "metadata": {},
     "output_type": "execute_result"
    }
   ],
   "source": [
    "# check is_disjoint\n",
    "set5.isdisjoint(set4) # True"
   ]
  },
  {
   "cell_type": "code",
   "execution_count": 25,
   "id": "dfceafd8-45c8-4af1-95e7-660d9156a623",
   "metadata": {},
   "outputs": [
    {
     "name": "stdout",
     "output_type": "stream",
     "text": [
      "set()\n"
     ]
    }
   ],
   "source": [
    "# clearing all values of set5\n",
    "set5.clear()\n",
    "print(set5)"
   ]
  },
  {
   "cell_type": "code",
   "execution_count": null,
   "id": "93189b00-d533-4463-9cc4-71a5f358fb76",
   "metadata": {},
   "outputs": [],
   "source": []
  }
 ],
 "metadata": {
  "kernelspec": {
   "display_name": "Python 3",
   "language": "python",
   "name": "python3"
  },
  "language_info": {
   "codemirror_mode": {
    "name": "ipython",
    "version": 3
   },
   "file_extension": ".py",
   "mimetype": "text/x-python",
   "name": "python",
   "nbconvert_exporter": "python",
   "pygments_lexer": "ipython3",
   "version": "3.9.5"
  }
 },
 "nbformat": 4,
 "nbformat_minor": 5
}
