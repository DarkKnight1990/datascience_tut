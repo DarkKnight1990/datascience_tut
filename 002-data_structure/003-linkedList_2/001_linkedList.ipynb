{
 "cells": [
  {
   "cell_type": "code",
   "execution_count": 6,
   "id": "0427c836-e841-4c76-a3c7-173ab3cd9d7e",
   "metadata": {},
   "outputs": [
    {
     "name": "stdout",
     "output_type": "stream",
     "text": [
      "Data:  45\n",
      "Data:  10\n",
      "Data:  56\n",
      "Data:  30\n"
     ]
    }
   ],
   "source": [
    "class ListNode:\n",
    "    def __init__(self, data):\n",
    "        self.data = data\n",
    "        self.next = None\n",
    "\n",
    "def traverse(head):\n",
    "    currNode = head\n",
    "    while currNode is not None:\n",
    "        print(\"Data: \", currNode.data)\n",
    "        currNode = currNode.next\n",
    "\n",
    "def prepend(head, data):\n",
    "    newNode = ListNode(data)\n",
    "    newNode.next = head\n",
    "    return newNode\n",
    "\n",
    "def search(head, target):\n",
    "    currNode = head\n",
    "    while currNode is not None and \n",
    "\n",
    "if __name__ == '__main__':\n",
    "    head = ListNode(10)\n",
    "    head.next = ListNode(56)\n",
    "    head.next.next = ListNode(30)\n",
    "    head = prepend(head, 45)\n",
    "    traverse(head)\n"
   ]
  },
  {
   "cell_type": "code",
   "execution_count": null,
   "id": "610c1ec4-f21b-4568-936f-a278f6b2d98b",
   "metadata": {},
   "outputs": [],
   "source": []
  }
 ],
 "metadata": {
  "kernelspec": {
   "display_name": "Python 3 (ipykernel)",
   "language": "python",
   "name": "python3"
  },
  "language_info": {
   "codemirror_mode": {
    "name": "ipython",
    "version": 3
   },
   "file_extension": ".py",
   "mimetype": "text/x-python",
   "name": "python",
   "nbconvert_exporter": "python",
   "pygments_lexer": "ipython3",
   "version": "3.9.5"
  }
 },
 "nbformat": 4,
 "nbformat_minor": 5
}
