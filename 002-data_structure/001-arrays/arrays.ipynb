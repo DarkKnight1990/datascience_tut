{
 "cells": [
  {
   "cell_type": "markdown",
   "id": "2648d676-6010-4e95-8875-0f187614999e",
   "metadata": {},
   "source": [
    "### Array ADT (Abstract Data Type) Implementation"
   ]
  },
  {
   "cell_type": "code",
   "execution_count": 4,
   "id": "633ef411-bb33-46f8-82c6-dd307fbac404",
   "metadata": {},
   "outputs": [],
   "source": [
    "### This will be a static array implementation\n",
    "\n",
    "import ctypes\n",
    "\n",
    "class StaticArray:\n",
    "    \n",
    "    # creates an array with size elements\n",
    "    def __init__(self, size):\n",
    "        assert size > 0, \"Array size must be > 0\"\n",
    "        self._size = size\n",
    "        PyArrayType = ctypes.py_object * size\n",
    "        self._elements = PyArrayType()\n",
    "        self.clear(None)\n",
    "    \n",
    "    # return the size of the array\n",
    "    def __len__(self):\n",
    "        return self._size\n",
    "    \n",
    "    # gets the contents of the index elements\n",
    "    def __getitem__(self, index):\n",
    "        assert index >= 0 and index < len(self), \"Array subscript out of range\"\n",
    "        return self._elements[index]\n",
    "    \n",
    "    # puts value in hte array at index position\n",
    "    def __setitem__(self, index, value):\n",
    "        assert index >= 0 and index < len(self), \"Array subscript out of range\"\n",
    "        self._elements[index] = value\n",
    "        \n",
    "    # clears the array by setting each element to given value\n",
    "    def clear(self, value):\n",
    "        for i in range(len(self)):\n",
    "            self._elements[i] = value\n",
    "    # return the arrays iterator for traversing the elements\n",
    "    def __iter__(self):\n",
    "        return _ArrayIterator(self._elements)\n",
    "    \n",
    "class _ArrayIterator:\n",
    "    \n",
    "    def __init__(self, theArray):\n",
    "        self._arrayRef = theArray\n",
    "        self._curIndx = 0\n",
    "        \n",
    "    def __iter__(self):\n",
    "        return self\n",
    "    \n",
    "    def __next__(self):\n",
    "        if self._curIndx < len(self._arrayRef):\n",
    "            entry = self._arrayRef[_curIndx]\n",
    "            self._curIndx += 1\n",
    "            return entry\n",
    "        else:\n",
    "            raise StopIteration\n"
   ]
  },
  {
   "cell_type": "code",
   "execution_count": 3,
   "id": "7aa8c603-19b1-4f6c-85fd-6a495f09abeb",
   "metadata": {},
   "outputs": [
    {
     "name": "stdout",
     "output_type": "stream",
     "text": [
      "1\n"
     ]
    }
   ],
   "source": []
  },
  {
   "cell_type": "code",
   "execution_count": null,
   "id": "0612ecb3-8a41-42da-86dd-df3b1f213cd3",
   "metadata": {},
   "outputs": [],
   "source": []
  }
 ],
 "metadata": {
  "kernelspec": {
   "display_name": "Python 3",
   "language": "python",
   "name": "python3"
  },
  "language_info": {
   "codemirror_mode": {
    "name": "ipython",
    "version": 3
   },
   "file_extension": ".py",
   "mimetype": "text/x-python",
   "name": "python",
   "nbconvert_exporter": "python",
   "pygments_lexer": "ipython3",
   "version": "3.9.5"
  }
 },
 "nbformat": 4,
 "nbformat_minor": 5
}
