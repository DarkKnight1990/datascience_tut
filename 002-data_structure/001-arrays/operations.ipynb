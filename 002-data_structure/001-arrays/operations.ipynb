{
 "cells": [
  {
   "cell_type": "code",
   "execution_count": 6,
   "id": "df81681b-f4ea-4def-aed0-2e5956b5d979",
   "metadata": {},
   "outputs": [
    {
     "name": "stdout",
     "output_type": "stream",
     "text": [
      "-1\n"
     ]
    }
   ],
   "source": [
    "# Search and element in an array\n",
    "\n",
    "def search_elem(arr, size, elem):\n",
    "    \"\"\"\n",
    "    arr: the array to be searched\n",
    "    size: the size of the array\n",
    "    elem: the element to be searched\n",
    "    \"\"\"\n",
    "    for i in range(size):\n",
    "        if arr[i] == elem:\n",
    "            return i\n",
    "    return -1\n",
    "\n",
    "if __name__ == '__main__':\n",
    "    arr = [2, 4, 1, 5, 3]\n",
    "    print(search_elem(arr, len(arr), 22))\n"
   ]
  },
  {
   "cell_type": "code",
   "execution_count": 13,
   "id": "9f6af926-66a4-4aef-95ec-01acc9ac9956",
   "metadata": {},
   "outputs": [
    {
     "name": "stdout",
     "output_type": "stream",
     "text": [
      "[12, 99, 13, 8, 0, 89, None, None]\n",
      "[100, 12, 99, 13, 8, 0, 89, None]\n",
      "[100, 12, 99, 13, 8, 0, 89, 50]\n"
     ]
    }
   ],
   "source": [
    "# Insert an element in a fixed size array\n",
    "\n",
    "def insert_elem(arr, size, cap, pos, elem):\n",
    "    \"\"\"\n",
    "    arr: the array inside which elem is to be inserted\n",
    "    size: the current number of elements in the array\n",
    "    cap: capacity of the array\n",
    "    pos: the pos at which the element is to be inserted\n",
    "    elem: the element to be inserted\n",
    "    \n",
    "    Return: should return the output array\n",
    "    \"\"\"\n",
    "    if (size == cap):\n",
    "        return arr\n",
    "    idx = pos - 1\n",
    "    for i in range(size-1, idx-1, -1):\n",
    "        arr[i+1] = arr[i]\n",
    "    arr[idx] = elem\n",
    "    return arr\n",
    "\n",
    "if __name__ == '__main__':\n",
    "    arr = [12, 13, 8, 0, 89, None, None, None]\n",
    "    print(insert_elem(arr, 5, len(arr), 2, 99))\n",
    "    print(insert_elem(arr, 6, len(arr), 1, 100))\n",
    "    print(insert_elem(arr, 7, len(arr), len(arr), 50))\n",
    "\n",
    "\"\"\"\n",
    "Time Complexty: O(n)\n",
    "\n",
    "\"\"\""
   ]
  },
  {
   "cell_type": "code",
   "execution_count": 15,
   "id": "5990e5f3-3ac3-4abe-9d3e-13ae54095a4a",
   "metadata": {},
   "outputs": [
    {
     "name": "stdout",
     "output_type": "stream",
     "text": [
      "[19, 10, 15, 28, None, None, None]\n"
     ]
    }
   ],
   "source": [
    "# Delete an element from an array\n",
    "\n",
    "def delete_elem(arr, size, cap, elem):\n",
    "    \"\"\"\n",
    "    arr: the array from which element is to be deleted\n",
    "    size: the current size of the array\n",
    "    cap: the overall capacity of the array\n",
    "    elem: the element to be deleted from the array\n",
    "    \n",
    "    Return: should return the modified array\n",
    "    \"\"\"\n",
    "    idx = search_elem(arr, size, elem)\n",
    "    if idx < 0:\n",
    "        raise ValueError('Element to delete not available')\n",
    "    for i in range(idx, size-1):\n",
    "        arr[i] = arr[i+1]\n",
    "    arr[size-1] = None\n",
    "    return arr\n",
    "\n",
    "if __name__ == '__main__':\n",
    "    arr = [19, 10, 7, 15, 28, None, None]\n",
    "    print(delete_elem(arr, 5, len(arr), 7))\n",
    "\n",
    "\"\"\"\n",
    "Time Complexity : 0(n)\n",
    "\"\"\""
   ]
  },
  {
   "cell_type": "code",
   "execution_count": 18,
   "id": "31655536-329c-4abb-8c96-4154a66a38ad",
   "metadata": {},
   "outputs": [
    {
     "name": "stdout",
     "output_type": "stream",
     "text": [
      "3\n"
     ]
    }
   ],
   "source": [
    "# Find the index of the largest element in an array\n",
    "\n",
    "def max_idx(arr):\n",
    "    \"\"\"\n",
    "    arr: the input array to be searched\n",
    "    \n",
    "    Return: should return the index of the largest element in the array\n",
    "    \"\"\"\n",
    "    curr_max = 0\n",
    "    \n",
    "    for i in range(1, len(arr)):\n",
    "        if arr[i] > arr[curr_max]:\n",
    "            curr_max = i\n",
    "    return curr_max\n",
    "\n",
    "if __name__ == '__main__':\n",
    "    arr = [12, 3, 1, 69, 8]\n",
    "    print(max_idx(arr))"
   ]
  },
  {
   "cell_type": "code",
   "execution_count": 25,
   "id": "dfcd11a4-d36b-499d-8a98-07371409b0f7",
   "metadata": {},
   "outputs": [
    {
     "name": "stdout",
     "output_type": "stream",
     "text": [
      "False\n"
     ]
    }
   ],
   "source": [
    "# Check if an array is sorted\n",
    "\n",
    "def check_sorted(arr):\n",
    "    \"\"\"\n",
    "    arr: the input arr for which we check if the elements are sorted (increasing order)\n",
    "    \n",
    "    Return: boolean; True if sorted otherwise False\n",
    "    \"\"\"\n",
    "    for i in range(len(arr)-1):\n",
    "        if arr[i] > arr[i+1]:\n",
    "            return False\n",
    "    return True\n",
    "\n",
    "if __name__ == '__main__':\n",
    "    arr = [-1, -2, 7, 8, 78]\n",
    "    print(check_sorted(arr))"
   ]
  },
  {
   "cell_type": "code",
   "execution_count": 37,
   "id": "9a4e59b4-dcc6-43a2-bdc3-9560f401674a",
   "metadata": {},
   "outputs": [
    {
     "name": "stdout",
     "output_type": "stream",
     "text": [
      "2\n"
     ]
    }
   ],
   "source": [
    "# Find the index of second largest element\n",
    "\n",
    "def find_second_largest(arr):\n",
    "    \"\"\"\n",
    "    arr: the input arr for which we should try to find index of the second largest element\n",
    "    \n",
    "    Return: index of second largest element\n",
    "    If no second largest than return -1\n",
    "    \"\"\"\n",
    "    first = 0\n",
    "    second = -1\n",
    "    for i in range(1, len(arr)):\n",
    "        if arr[i] > arr[first]:\n",
    "            second = first\n",
    "            first = i\n",
    "        elif arr[i] != arr[first]:\n",
    "            if arr[i] > arr[second] | second == -1:\n",
    "                second = i\n",
    "    return second\n",
    "\n",
    "if __name__ == '__main__':\n",
    "    arr = [300, 300, 78]\n",
    "    print(find_second_largest(arr))"
   ]
  },
  {
   "cell_type": "code",
   "execution_count": 7,
   "id": "ac0d9dcd-01c4-4057-bc61-c27bd1203230",
   "metadata": {},
   "outputs": [
    {
     "name": "stdout",
     "output_type": "stream",
     "text": [
      "['21', 68, 45, 5, 31, 2]\n"
     ]
    }
   ],
   "source": [
    "# reverse an array\n",
    "\n",
    "def reverse(arr):\n",
    "    \"\"\"\n",
    "    arr: the input array to reverse\n",
    "    \n",
    "    Return: the reversed array\n",
    "    \"\"\"\n",
    "    i = 0\n",
    "    j = len(arr) - 1\n",
    "    while(j > i):\n",
    "        temp = arr[i]\n",
    "        arr[i] = arr[j]\n",
    "        arr[j] = temp\n",
    "        i = i + 1\n",
    "        j = j - 1\n",
    "    return arr\n",
    "\n",
    "if __name__ == '__main__':\n",
    "    arr = [2, 31, 5, 45, 68, '21']\n",
    "    new = reverse(arr)\n",
    "    print(new)"
   ]
  },
  {
   "cell_type": "code",
   "execution_count": 24,
   "id": "5cb13cc0-9334-42fc-82b2-1fa4852741f1",
   "metadata": {},
   "outputs": [
    {
     "name": "stdout",
     "output_type": "stream",
     "text": [
      "([10, 20, 30, 100, None, None, None, None], 4)\n"
     ]
    }
   ],
   "source": [
    "# remove duplicates from a sorted array\n",
    "\n",
    "def remove_dup(arr, size):\n",
    "    \"\"\"\n",
    "    arr: input array to be modified\n",
    "    ie. remove all the duplicates in the sorted array\n",
    "    eg. IP:  arr = [10, 20, 20, 40, 50, 50, 60]\n",
    "        OP:  arr = [10, 20, 40, 50, 60, None, None]\n",
    "    \"\"\"\n",
    "    i = 0\n",
    "    for j in range(1, size):\n",
    "        if arr[j] == arr[i]:\n",
    "            arr[j] = None\n",
    "            size = size - 1\n",
    "        else:\n",
    "            temp = arr[j]\n",
    "            arr[j] = None\n",
    "            i = i + 1\n",
    "            arr[i] = temp\n",
    "    return (arr, size)\n",
    "\n",
    "if __name__ == '__main__':\n",
    "    arr = [10, 10, 10, 20, 20, 20, 30, 100]\n",
    "    print(remove_dup(arr, 8))"
   ]
  },
  {
   "cell_type": "code",
   "execution_count": 21,
   "id": "b0147d08-a75f-4ec2-8d64-616b6555fda1",
   "metadata": {},
   "outputs": [
    {
     "name": "stdout",
     "output_type": "stream",
     "text": [
      "([10, 20, 30, 100, None, None, None, None], 4)\n"
     ]
    }
   ],
   "source": [
    "def remove_dup2(arr, size):\n",
    "    res = 1\n",
    "    for i in range(1, size):\n",
    "        if arr[i] != arr[res-1]:\n",
    "            temp = arr[i]\n",
    "            arr[i] = None\n",
    "            arr[res] = temp\n",
    "            res = res + 1\n",
    "        else:\n",
    "            arr[i] = None\n",
    "    return(arr, res)\n",
    "\n",
    "if __name__ == '__main__':\n",
    "    arr = [10, 10, 10, 20, 20, 20, 30, 100]\n",
    "    print(remove_dup2(arr, 8))"
   ]
  },
  {
   "cell_type": "code",
   "execution_count": 3,
   "id": "56071d5d-8a47-4cc3-bd83-35004962ce0f",
   "metadata": {},
   "outputs": [
    {
     "name": "stdout",
     "output_type": "stream",
     "text": [
      "[9, 8, None, None]\n"
     ]
    }
   ],
   "source": [
    "# left rotate an array by one\n",
    "\n",
    "def rotate(arr, size):\n",
    "    \"\"\"\n",
    "    arr: array to be rotated counter-clockwise by one\n",
    "    size: size of the input array\n",
    "    \n",
    "    Return: the rotated modified array\n",
    "    \"\"\"\n",
    "    val = arr[0]\n",
    "    for i in range(1, size):\n",
    "        arr[i-1] = arr[i]\n",
    "    arr[size-1] = val\n",
    "    return arr\n",
    "\n",
    "if __name__ == '__main__':\n",
    "    arr = [8, 9, None, None]\n",
    "    print(rotate(arr, 2))"
   ]
  },
  {
   "cell_type": "code",
   "execution_count": 9,
   "id": "793fc338-7ad1-4789-a9c6-dcced711799a",
   "metadata": {},
   "outputs": [
    {
     "name": "stdout",
     "output_type": "stream",
     "text": [
      "[6, 7, 8, 2, 5]\n"
     ]
    }
   ],
   "source": [
    "# left rotate an array by a certain number\n",
    "\n",
    "def reverse2(arr, start, end):\n",
    "    while(start < end):\n",
    "        temp = arr[start]\n",
    "        arr[start] = arr[end]\n",
    "        arr[end] = temp\n",
    "        start = start + 1\n",
    "        end = end - 1\n",
    "\n",
    "\n",
    "def lrotate_by_d(arr, size, d):\n",
    "    \"\"\"\n",
    "    arr: array to be left rotated\n",
    "    size: size of the array\n",
    "    d: specific amout by which to be rotated\n",
    "    \n",
    "    Return: the modified rotated array\n",
    "    \"\"\"\n",
    "    if d == 0:\n",
    "        return\n",
    "    d = d % size\n",
    "    reverse2(arr, 0, d-1)\n",
    "    reverse2(arr, d, size-1)\n",
    "    reverse2(arr, 0, size-1)\n",
    "\n",
    "if __name__ == '__main__':\n",
    "    arr = [2, 5, 6, 7, 8]\n",
    "    lrotate_by_d(arr, 5, 2)\n",
    "    print(arr)"
   ]
  },
  {
   "cell_type": "code",
   "execution_count": null,
   "id": "cc6520f6-1ce4-488e-bcc0-ec9f107e5821",
   "metadata": {},
   "outputs": [],
   "source": []
  }
 ],
 "metadata": {
  "kernelspec": {
   "display_name": "Python 3 (ipykernel)",
   "language": "python",
   "name": "python3"
  },
  "language_info": {
   "codemirror_mode": {
    "name": "ipython",
    "version": 3
   },
   "file_extension": ".py",
   "mimetype": "text/x-python",
   "name": "python",
   "nbconvert_exporter": "python",
   "pygments_lexer": "ipython3",
   "version": "3.9.5"
  }
 },
 "nbformat": 4,
 "nbformat_minor": 5
}
