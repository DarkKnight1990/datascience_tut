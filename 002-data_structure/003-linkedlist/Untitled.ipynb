{
 "cells": [
  {
   "cell_type": "code",
   "execution_count": 1,
   "id": "da1853f0-0080-4978-9ccb-8cf5f3e92b67",
   "metadata": {},
   "outputs": [
    {
     "name": "stdout",
     "output_type": "stream",
     "text": [
      "Hash of x: 8747693717093\n",
      "Id of x: 139963099473488\n",
      "Id of x >> 4: 8747693717093\n",
      "Is x equal to itself? True\n"
     ]
    }
   ],
   "source": [
    "x = object()\n",
    "print(f'Hash of x: {hash(x)}')\n",
    "print(f'Id of x: {id(x)}')\n",
    "print(f'Id of x >> 4: {id(x) >> 4}')\n",
    "print(f'Is x equal to itself? {x == x}')"
   ]
  },
  {
   "cell_type": "code",
   "execution_count": 4,
   "id": "581ac9a2-6a24-4878-b8aa-4c342cfc3010",
   "metadata": {},
   "outputs": [
    {
     "name": "stdout",
     "output_type": "stream",
     "text": [
      "value of uh: 20\n",
      "hash of uh: 20\n"
     ]
    }
   ],
   "source": [
    "class UnhashableClass:\n",
    "    def __init__(self, value):\n",
    "        self.value = value\n",
    "    \n",
    "    def __eq__(self, other):\n",
    "        return isinstance(other, UnhashableClass) and self.value == other.value\n",
    "\n",
    "uh = UnhashableClass(20)\n",
    "print(f'value of uh: {uh.value}')\n",
    "print(f'hash of uh: {hash(uh.value)}')"
   ]
  },
  {
   "cell_type": "code",
   "execution_count": 13,
   "id": "e95580e7-605b-4604-9a0b-a763cdbf8085",
   "metadata": {},
   "outputs": [
    {
     "name": "stdout",
     "output_type": "stream",
     "text": [
      "Calling hash for a: 42\n",
      "Calling hash for b: 37\n",
      "Calling hash for c: 42\n",
      "Calling hash for c: 42\n"
     ]
    },
    {
     "data": {
      "text/plain": [
       "False"
      ]
     },
     "execution_count": 13,
     "metadata": {},
     "output_type": "execute_result"
    }
   ],
   "source": [
    "class ReportsHash:\n",
    "    \n",
    "    def __init__(self, value, name):\n",
    "        self._value = value\n",
    "        self._name = name\n",
    "\n",
    "    def __hash__(self):\n",
    "        hash_value = hash(self._value)\n",
    "        print(f'Calling hash for {self._name}: {hash_value}')\n",
    "        return hash_value\n",
    "\n",
    "    def __eq__(self, other):\n",
    "        return isinstance(other, ReportsHash) and self._value == other._value\n",
    "\n",
    "    \n",
    "a = ReportsHash(42, 'a')\n",
    "b = ReportsHash(37, 'b')\n",
    "c = ReportsHash(42, 'c')\n",
    "s = {a, b}\n",
    "for x in range(10000):\n",
    "    s.add(x)\n",
    "c in s\n",
    "s2 = {}\n",
    "c in s2"
   ]
  },
  {
   "cell_type": "code",
   "execution_count": null,
   "id": "80979601-1f5a-4b95-b236-7af8522e6ed6",
   "metadata": {},
   "outputs": [],
   "source": []
  }
 ],
 "metadata": {
  "kernelspec": {
   "display_name": "Python 3 (ipykernel)",
   "language": "python",
   "name": "python3"
  },
  "language_info": {
   "codemirror_mode": {
    "name": "ipython",
    "version": 3
   },
   "file_extension": ".py",
   "mimetype": "text/x-python",
   "name": "python",
   "nbconvert_exporter": "python",
   "pygments_lexer": "ipython3",
   "version": "3.9.5"
  }
 },
 "nbformat": 4,
 "nbformat_minor": 5
}
