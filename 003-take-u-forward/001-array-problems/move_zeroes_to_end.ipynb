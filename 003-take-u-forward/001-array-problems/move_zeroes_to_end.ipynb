{
 "cells": [
  {
   "cell_type": "markdown",
   "id": "f9d4fb04-aec5-485b-9384-3be01b0a0f36",
   "metadata": {},
   "source": [
    "## Move all zeroes to the end\n",
    "### Given an array which consists of zeroes and non-zeroes; Move all zeroes to the end and also maintain the order of the remaining elements in the array\n",
    "#### Input arr  = [1, 2, 0, 4, 1, 0, 5, 1, 0, 9]\n",
    "#### Output arr = [1, 2, 4, 1, 5, 1, 9, 0, 0, 0]"
   ]
  },
  {
   "cell_type": "code",
   "execution_count": 2,
   "id": "cb720605-5090-420a-84d3-712ea37525ed",
   "metadata": {},
   "outputs": [
    {
     "name": "stdout",
     "output_type": "stream",
     "text": [
      "INPUT ARRAY:  [1, 2, 0, 4, 1, 0, 5, 1, 0, 9]\n",
      "OUTPUT ARRAY:  [1, 2, 4, 1, 5, 1, 9, 0, 0, 0]\n"
     ]
    }
   ],
   "source": [
    "INPUT_ARR = [1, 2, 0, 4, 1, 0, 5, 1, 0, 9]\n",
    "\n",
    "def move_zeroes_to_end(arr):\n",
    "    # find the first zero\n",
    "    j = -1\n",
    "    for i in range(len(arr)):\n",
    "        if arr[i] == 0:\n",
    "            j = i\n",
    "            break\n",
    "    if j == -1:\n",
    "        # no zeroes in the arr no modification required; return\n",
    "        return\n",
    "    for i in range(j+1, len(arr)):\n",
    "        if arr[i] != 0:\n",
    "            arr[j], arr[i] = arr[i], arr[j] # swap\n",
    "            j += 1\n",
    "\n",
    "print(\"INPUT ARRAY: \", INPUT_ARR)\n",
    "move_zeroes_to_end(INPUT_ARR)\n",
    "print(\"OUTPUT ARRAY: \", INPUT_ARR)"
   ]
  },
  {
   "cell_type": "code",
   "execution_count": 12,
   "id": "48c793d7-cc60-475b-b509-6438df2a915f",
   "metadata": {},
   "outputs": [
    {
     "name": "stdout",
     "output_type": "stream",
     "text": [
      "[-2, -100, 0, 0, 0]\n"
     ]
    }
   ],
   "source": [
    "inp = [0, 0, -2, 0, -100]\n",
    "move_zeroes_to_end(inp)\n",
    "print(inp)"
   ]
  },
  {
   "cell_type": "code",
   "execution_count": null,
   "id": "9b52f197-4454-4c45-a92a-cd8062f7f188",
   "metadata": {},
   "outputs": [],
   "source": []
  }
 ],
 "metadata": {
  "kernelspec": {
   "display_name": "Python 3 (ipykernel)",
   "language": "python",
   "name": "python3"
  },
  "language_info": {
   "codemirror_mode": {
    "name": "ipython",
    "version": 3
   },
   "file_extension": ".py",
   "mimetype": "text/x-python",
   "name": "python",
   "nbconvert_exporter": "python",
   "pygments_lexer": "ipython3",
   "version": "3.10.5"
  }
 },
 "nbformat": 4,
 "nbformat_minor": 5
}
