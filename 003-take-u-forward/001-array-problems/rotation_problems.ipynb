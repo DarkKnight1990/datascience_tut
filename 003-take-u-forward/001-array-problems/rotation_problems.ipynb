{
 "cells": [
  {
   "cell_type": "markdown",
   "id": "5c7fa035-c045-4ce5-a3e1-d2963a726b2e",
   "metadata": {},
   "source": [
    "## Left rotate array by one\n",
    "### Input array []  = [1, 2, 3, 4, 5]\n",
    "### Output array [] = [2, 3, 4, 5, 1]"
   ]
  },
  {
   "cell_type": "code",
   "execution_count": 43,
   "id": "f8b3aa7c-a6e5-49bf-bccf-d9313f72e0aa",
   "metadata": {},
   "outputs": [
    {
     "name": "stdout",
     "output_type": "stream",
     "text": [
      "[2, 3, 4, 5, 1]\n"
     ]
    }
   ],
   "source": [
    "# Solution\n",
    "INPUT_ARR = [1, 2, 3, 4, 5]\n",
    "\n",
    "def left_rotate_by_one(arr):\n",
    "    if not arr:\n",
    "        return arr\n",
    "    left = arr[0]\n",
    "    for i in range(1, len(arr)):\n",
    "        arr[i-1] = arr[i]\n",
    "    arr[len(arr)-1] = left\n",
    "    return arr\n",
    "\n",
    "OUTPUT_ARR = left_rotate_by_one(INPUT_ARR)\n",
    "print(OUTPUT_ARR)"
   ]
  },
  {
   "cell_type": "code",
   "execution_count": 44,
   "id": "5569fcf5-593a-43cd-acdd-9f594d76849f",
   "metadata": {},
   "outputs": [
    {
     "name": "stdout",
     "output_type": "stream",
     "text": [
      "****************************************************************************************************\n",
      "Input arr: \n",
      " [0, 34, 55, -12, 89, 90, 89292, 7, 2332324, 9000909, 87]\n",
      "Output arr: \n",
      " [34, 55, -12, 89, 90, 89292, 7, 2332324, 9000909, 87, 0]\n",
      "****************************************************************************************************\n",
      "****************************************************************************************************\n",
      "Input arr: \n",
      " [0, 2, 4, 6, 8, 10, 12, 14, 16, 18, 20, 22, 24, 26, 28, 30, 32, 34, 36, 38, 40, 42, 44, 46, 48, 50, 52, 54, 56, 58, 60, 62, 64, 66, 68, 70, 72, 74, 76, 78, 80, 82, 84, 86, 88, 90, 92, 94, 96, 98, 100, 102, 104, 106, 108, 110, 112, 114, 116, 118, 120, 122, 124, 126, 128, 130, 132, 134, 136, 138, 140, 142, 144, 146, 148, 150, 152, 154, 156, 158, 160, 162, 164, 166, 168, 170, 172, 174, 176, 178, 180, 182, 184, 186, 188, 190, 192, 194, 196, 198]\n",
      "Output arr: \n",
      " [2, 4, 6, 8, 10, 12, 14, 16, 18, 20, 22, 24, 26, 28, 30, 32, 34, 36, 38, 40, 42, 44, 46, 48, 50, 52, 54, 56, 58, 60, 62, 64, 66, 68, 70, 72, 74, 76, 78, 80, 82, 84, 86, 88, 90, 92, 94, 96, 98, 100, 102, 104, 106, 108, 110, 112, 114, 116, 118, 120, 122, 124, 126, 128, 130, 132, 134, 136, 138, 140, 142, 144, 146, 148, 150, 152, 154, 156, 158, 160, 162, 164, 166, 168, 170, 172, 174, 176, 178, 180, 182, 184, 186, 188, 190, 192, 194, 196, 198, 0]\n",
      "****************************************************************************************************\n",
      "****************************************************************************************************\n",
      "Input arr: \n",
      " [32]\n",
      "Output arr: \n",
      " [32]\n",
      "****************************************************************************************************\n",
      "****************************************************************************************************\n",
      "Input arr: \n",
      " []\n",
      "Output arr: \n",
      " []\n",
      "****************************************************************************************************\n",
      "****************************************************************************************************\n",
      "Input arr: \n",
      " [-1, -2]\n",
      "Output arr: \n",
      " [-2, -1]\n",
      "****************************************************************************************************\n"
     ]
    }
   ],
   "source": [
    "# Test for different inputs\n",
    "LIST_OF_INPUT_ARR = [\n",
    "    [0, 34, 55, -12, 89, 90, 89292, 7, 2332324, 9000909, 87],\n",
    "    [i+i for i in range(100)],\n",
    "    [32],\n",
    "    [],\n",
    "    [-1, -2]\n",
    "]\n",
    "\n",
    "for arr in LIST_OF_INPUT_ARR:\n",
    "    print(\"*\" * 100)\n",
    "    print(\"Input arr: \\n\", arr)\n",
    "    output = left_rotate_by_one(arr)\n",
    "    print(\"Output arr: \\n\", output)\n",
    "    print(\"*\" * 100)\n"
   ]
  },
  {
   "cell_type": "markdown",
   "id": "9626ee6a-127a-451f-b2cc-b721cf075f89",
   "metadata": {},
   "source": [
    "## Left rotate by D places\n",
    "### Left rotate by 2\n",
    "### Input Arr  [] = [1, 2, 3, 4, 5, 6, 7]\n",
    "### Output Arr [] = [3, 4, 5, 6, 6, 1, 2]"
   ]
  },
  {
   "cell_type": "code",
   "execution_count": 40,
   "id": "303cf348-55b4-493a-849e-ece45d56f43f",
   "metadata": {},
   "outputs": [
    {
     "name": "stdout",
     "output_type": "stream",
     "text": [
      "[3, 4, 5, 6, 7, 1, 2]\n"
     ]
    }
   ],
   "source": [
    "INPUT_ARR = [1, 2, 3, 4, 5, 6, 7]\n",
    "\n",
    "def left_rotate_arr_by_d(arr, d):\n",
    "    if not arr:\n",
    "        return arr\n",
    "    d = d % len(arr)\n",
    "    temp = arr[:d]\n",
    "    for i in range(d, len(arr)):\n",
    "        arr[i-d] = arr[i]\n",
    "        # i += 1\n",
    "    # j = len(arr) - d\n",
    "    # k = 0\n",
    "    # while(j < len(arr) and k < d):\n",
    "    #     arr[j] = temp[k]\n",
    "    #     k += 1\n",
    "    #     j += 1\n",
    "    for i in range(len(arr)-d, len(arr)):\n",
    "        arr[i] = temp[i-(len(arr)-d)]\n",
    "        \n",
    "\n",
    "left_rotate_arr_by_d(INPUT_ARR, 2) # left rotate by 2\n",
    "print(INPUT_ARR)"
   ]
  },
  {
   "cell_type": "code",
   "execution_count": 41,
   "id": "59d38dab-353d-414a-954c-fc95cabc5211",
   "metadata": {},
   "outputs": [
    {
     "name": "stdout",
     "output_type": "stream",
     "text": [
      "[7, 0, 45, 78, 89, 2, 3, 56]\n"
     ]
    }
   ],
   "source": [
    "# left rotate by 3\n",
    "arr1 = [2, 3, 56, 7, 0, 45, 78, 89]\n",
    "left_rotate_arr_by_d(arr1, 3)\n",
    "print(arr1)"
   ]
  },
  {
   "cell_type": "code",
   "execution_count": 42,
   "id": "19512791-d6ce-4ce6-99b3-6377774b01dc",
   "metadata": {},
   "outputs": [
    {
     "name": "stdout",
     "output_type": "stream",
     "text": [
      "[78, 89, 2, 3, 56, 7, 0, 45]\n"
     ]
    }
   ],
   "source": [
    "arr1 = [2, 3, 56, 7, 0, 45, 78, 89]\n",
    "left_rotate_arr_by_d(arr1, 150)\n",
    "print(arr1)"
   ]
  },
  {
   "cell_type": "code",
   "execution_count": null,
   "id": "217c6512-6aaa-44d3-9084-915d0510db2e",
   "metadata": {},
   "outputs": [],
   "source": []
  }
 ],
 "metadata": {
  "kernelspec": {
   "display_name": "Python 3 (ipykernel)",
   "language": "python",
   "name": "python3"
  },
  "language_info": {
   "codemirror_mode": {
    "name": "ipython",
    "version": 3
   },
   "file_extension": ".py",
   "mimetype": "text/x-python",
   "name": "python",
   "nbconvert_exporter": "python",
   "pygments_lexer": "ipython3",
   "version": "3.10.5"
  }
 },
 "nbformat": 4,
 "nbformat_minor": 5
}
